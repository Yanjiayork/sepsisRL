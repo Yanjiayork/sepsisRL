{
 "cells": [
  {
   "cell_type": "code",
   "execution_count": 1,
   "metadata": {},
   "outputs": [],
   "source": [
    "import pandas as pd\n",
    "import numpy as np\n",
    "try:\n",
    "    import cPickle as pickle\n",
    "except ImportError:\n",
    "    import _pickle as pickle\n",
    "import matplotlib.pyplot as plt\n",
    "import seaborn as sns\n"
   ]
  },
  {
   "cell_type": "code",
   "execution_count": 2,
   "metadata": {},
   "outputs": [],
   "source": [
    "df_orig = pd.read_csv('./data_vasochange/rl_original.csv')"
   ]
  },
  {
   "cell_type": "code",
   "execution_count": 3,
   "metadata": {},
   "outputs": [],
   "source": [
    "###### getting the min, max, median for each vaso actions "
   ]
  },
  {
   "cell_type": "code",
   "execution_count": 4,
   "metadata": {},
   "outputs": [],
   "source": [
    "a = df_orig['max_dose_vaso'][df_orig['vc_ac'] == 1]"
   ]
  },
  {
   "cell_type": "code",
   "execution_count": 5,
   "metadata": {},
   "outputs": [],
   "source": [
    "action1=[a.min(),a.max(),a.median()]"
   ]
  },
  {
   "cell_type": "code",
   "execution_count": 6,
   "metadata": {},
   "outputs": [],
   "source": [
    "b = df_orig['max_dose_vaso'][df_orig['vc_ac'] == 2]"
   ]
  },
  {
   "cell_type": "code",
   "execution_count": 7,
   "metadata": {},
   "outputs": [],
   "source": [
    "action2=[b.min(),b.max(),b.median()]"
   ]
  },
  {
   "cell_type": "code",
   "execution_count": 8,
   "metadata": {},
   "outputs": [],
   "source": [
    "c = df_orig['max_dose_vaso'][df_orig['vc_ac'] == 3]"
   ]
  },
  {
   "cell_type": "code",
   "execution_count": 9,
   "metadata": {},
   "outputs": [],
   "source": [
    "action3=[c.min(),c.max(),c.median()]"
   ]
  },
  {
   "cell_type": "code",
   "execution_count": 10,
   "metadata": {},
   "outputs": [],
   "source": [
    "d = df_orig['max_dose_vaso'][df_orig['vc_ac'] == 4]"
   ]
  },
  {
   "cell_type": "code",
   "execution_count": 11,
   "metadata": {},
   "outputs": [],
   "source": [
    "action4=[d.min(),d.max(),d.median()]"
   ]
  },
  {
   "cell_type": "code",
   "execution_count": 12,
   "metadata": {},
   "outputs": [
    {
     "name": "stdout",
     "output_type": "stream",
     "text": [
      "[0.002, 0.079, 0.04] [0.08, 0.2, 0.135] [0.201, 0.449, 0.27] [0.45, 1.005, 0.7859999999999999]\n"
     ]
    }
   ],
   "source": [
    "print(action1, action2,action3, action4)"
   ]
  },
  {
   "cell_type": "code",
   "execution_count": null,
   "metadata": {},
   "outputs": [],
   "source": []
  },
  {
   "cell_type": "code",
   "execution_count": 13,
   "metadata": {},
   "outputs": [],
   "source": [
    "df_train = pd.read_csv('./data_vasochange/train_withterm.csv')\n",
    "df_train_orig = df_orig[df_orig['icustayid'].isin(df_train['icustayid'].unique())]\n",
    "df_test = pd.read_csv('./data_vasochange/test_withterm.csv')\n",
    "df_test_orig = df_orig[df_orig['icustayid'].isin(df_test['icustayid'].unique())]"
   ]
  },
  {
   "cell_type": "code",
   "execution_count": 14,
   "metadata": {
    "scrolled": true
   },
   "outputs": [
    {
     "data": {
      "text/plain": [
       "<matplotlib.axes._subplots.AxesSubplot at 0x7f5bfdecf5f8>"
      ]
     },
     "execution_count": 14,
     "metadata": {},
     "output_type": "execute_result"
    },
    {
     "data": {
      "image/png": "[encoded data removed]",
      "text/plain": [
       "<Figure size 432x288 with 1 Axes>"
      ]
     },
     "metadata": {
      "needs_background": "light"
     },
     "output_type": "display_data"
    }
   ],
   "source": [
    "sns.boxplot(x= df_test_orig['max_dose_vaso'][df_test_orig['max_dose_vaso']>0])"
   ]
  },
  {
   "cell_type": "code",
   "execution_count": 15,
   "metadata": {},
   "outputs": [],
   "source": [
    "######## df_test['abchange_vc'] is not the absolute change. it is the relative change######\n",
    "abchange = df_test_orig['abchange_vc']\n",
    "df_test['abchange_vc'] = np.array(abs(abchange))"
   ]
  },
  {
   "cell_type": "code",
   "execution_count": null,
   "metadata": {},
   "outputs": [],
   "source": []
  },
  {
   "cell_type": "code",
   "execution_count": 108,
   "metadata": {},
   "outputs": [],
   "source": [
    "agent_actions_test = pickle.load(open('/home/userfs/y/yj914/SepsisDeepRL1/dqn_normal/dqn_normal_actions_test.p', \"rb\" ))\n",
    "agent_actions_test1 = pickle.load(open('/home/userfs/y/yj914/SepsisDeepRL1/vasochange4_dqn_normal/dqn_normal_actions_test.p', \"rb\" ))\n",
    "#agent_actions_test1 = pickle.load(open('/shared/storage/cs/staffstore/yj914/yj914/SepsisDeepRL/vasochange2_dqn_normal/dqn_normal_actions_test.p', \"rb\" ))\n",
    "#agent_actions_val = pickle.load(open('/home/userfs/y/yj914/SepsisDeepRL1/dqn_normal/dqn_normal_actions_val.p', \"rb\" ))\n",
    "#agent_actions_train = pickle.load(open('/home/userfs/y/yj914/SepsisDeepRL1/dqn_normal/dqn_normal_actions_train.p', \"rb\"))"
   ]
  },
  {
   "cell_type": "code",
   "execution_count": 109,
   "metadata": {},
   "outputs": [],
   "source": [
    "inv_action_map = {}\n",
    "count = 0\n",
    "for i in range(5):\n",
    "    for j in range(5):\n",
    "        inv_action_map[count] = [i,j]\n",
    "        count += 1"
   ]
  },
  {
   "cell_type": "code",
   "execution_count": 110,
   "metadata": {},
   "outputs": [],
   "source": [
    "test_actions_arr = np.array([inv_action_map[i] for i in agent_actions_test])\n",
    "test_actions_arr1 = np.array([inv_action_map[i] for i in agent_actions_test1])"
   ]
  },
  {
   "cell_type": "code",
   "execution_count": 111,
   "metadata": {},
   "outputs": [],
   "source": [
    "df_test['agent_iv'] = test_actions_arr[:,0]\n",
    "df_test['agent_vaso'] = test_actions_arr[:,1]\n",
    "df_test['agent_iv1'] = test_actions_arr1[:,0]\n",
    "df_test['agent_vaso1'] = test_actions_arr1[:,1]"
   ]
  },
  {
   "cell_type": "code",
   "execution_count": 112,
   "metadata": {},
   "outputs": [
    {
     "data": {
      "text/html": [
       "<div>\n",
       "<table border=\"1\" class=\"dataframe\">\n",
       "  <thead>\n",
       "    <tr style=\"text-align: right;\">\n",
       "      <th></th>\n",
       "      <th>bloc</th>\n",
       "      <th>icustayid</th>\n",
       "      <th>mortality_90d</th>\n",
       "      <th>MIMICzs1</th>\n",
       "      <th>MIMICzs2</th>\n",
       "      <th>MIMICzs3</th>\n",
       "      <th>MIMICzs4</th>\n",
       "      <th>MIMICzs5</th>\n",
       "      <th>MIMICzs6</th>\n",
       "      <th>MIMICzs7</th>\n",
       "      <th>...</th>\n",
       "      <th>abchange_vc</th>\n",
       "      <th>max_dose_vaso</th>\n",
       "      <th>agent_iv</th>\n",
       "      <th>agent_vaso</th>\n",
       "      <th>agent_iv1</th>\n",
       "      <th>agent_vaso1</th>\n",
       "      <th>agent_dose_vaso</th>\n",
       "      <th>agent_dose_vaso1</th>\n",
       "      <th>abchange_vc_agent</th>\n",
       "      <th>abchange_vc_agent1</th>\n",
       "    </tr>\n",
       "  </thead>\n",
       "  <tbody>\n",
       "    <tr>\n",
       "      <th>0</th>\n",
       "      <td>1</td>\n",
       "      <td>47</td>\n",
       "      <td>0</td>\n",
       "      <td>-0.5</td>\n",
       "      <td>-0.5</td>\n",
       "      <td>-0.5</td>\n",
       "      <td>-2.302585</td>\n",
       "      <td>0.855691</td>\n",
       "      <td>-1.030949</td>\n",
       "      <td>0.513024</td>\n",
       "      <td>...</td>\n",
       "      <td>0.0</td>\n",
       "      <td>0.0</td>\n",
       "      <td>4</td>\n",
       "      <td>2</td>\n",
       "      <td>2</td>\n",
       "      <td>2</td>\n",
       "      <td>0.135</td>\n",
       "      <td>0.135</td>\n",
       "      <td>0.000</td>\n",
       "      <td>0.000</td>\n",
       "    </tr>\n",
       "    <tr>\n",
       "      <th>1</th>\n",
       "      <td>2</td>\n",
       "      <td>47</td>\n",
       "      <td>0</td>\n",
       "      <td>-0.5</td>\n",
       "      <td>-0.5</td>\n",
       "      <td>-0.5</td>\n",
       "      <td>-2.302585</td>\n",
       "      <td>0.855691</td>\n",
       "      <td>-1.030949</td>\n",
       "      <td>0.513024</td>\n",
       "      <td>...</td>\n",
       "      <td>0.0</td>\n",
       "      <td>0.0</td>\n",
       "      <td>4</td>\n",
       "      <td>0</td>\n",
       "      <td>2</td>\n",
       "      <td>2</td>\n",
       "      <td>0.000</td>\n",
       "      <td>0.786</td>\n",
       "      <td>0.135</td>\n",
       "      <td>0.651</td>\n",
       "    </tr>\n",
       "    <tr>\n",
       "      <th>2</th>\n",
       "      <td>9</td>\n",
       "      <td>47</td>\n",
       "      <td>0</td>\n",
       "      <td>-0.5</td>\n",
       "      <td>-0.5</td>\n",
       "      <td>-0.5</td>\n",
       "      <td>-2.302585</td>\n",
       "      <td>0.855691</td>\n",
       "      <td>-1.014956</td>\n",
       "      <td>-1.567879</td>\n",
       "      <td>...</td>\n",
       "      <td>0.0</td>\n",
       "      <td>0.0</td>\n",
       "      <td>4</td>\n",
       "      <td>2</td>\n",
       "      <td>2</td>\n",
       "      <td>1</td>\n",
       "      <td>0.135</td>\n",
       "      <td>0.135</td>\n",
       "      <td>0.135</td>\n",
       "      <td>0.651</td>\n",
       "    </tr>\n",
       "    <tr>\n",
       "      <th>3</th>\n",
       "      <td>1</td>\n",
       "      <td>66</td>\n",
       "      <td>0</td>\n",
       "      <td>-0.5</td>\n",
       "      <td>-0.5</td>\n",
       "      <td>-0.5</td>\n",
       "      <td>-2.302585</td>\n",
       "      <td>-0.067316</td>\n",
       "      <td>-0.107333</td>\n",
       "      <td>0.705956</td>\n",
       "      <td>...</td>\n",
       "      <td>0.0</td>\n",
       "      <td>0.0</td>\n",
       "      <td>4</td>\n",
       "      <td>2</td>\n",
       "      <td>2</td>\n",
       "      <td>1</td>\n",
       "      <td>0.135</td>\n",
       "      <td>0.000</td>\n",
       "      <td>0.000</td>\n",
       "      <td>0.000</td>\n",
       "    </tr>\n",
       "    <tr>\n",
       "      <th>4</th>\n",
       "      <td>2</td>\n",
       "      <td>66</td>\n",
       "      <td>0</td>\n",
       "      <td>-0.5</td>\n",
       "      <td>-0.5</td>\n",
       "      <td>-0.5</td>\n",
       "      <td>-2.302585</td>\n",
       "      <td>-0.067316</td>\n",
       "      <td>-0.107333</td>\n",
       "      <td>0.705956</td>\n",
       "      <td>...</td>\n",
       "      <td>0.0</td>\n",
       "      <td>0.0</td>\n",
       "      <td>1</td>\n",
       "      <td>0</td>\n",
       "      <td>1</td>\n",
       "      <td>1</td>\n",
       "      <td>0.000</td>\n",
       "      <td>0.000</td>\n",
       "      <td>0.135</td>\n",
       "      <td>0.000</td>\n",
       "    </tr>\n",
       "  </tbody>\n",
       "</table>\n",
       "<p>5 rows × 64 columns</p>\n",
       "</div>"
      ],
      "text/plain": [
       "   bloc  icustayid  mortality_90d  MIMICzs1  MIMICzs2  MIMICzs3  MIMICzs4  \\\n",
       "0     1         47              0      -0.5      -0.5      -0.5 -2.302585   \n",
       "1     2         47              0      -0.5      -0.5      -0.5 -2.302585   \n",
       "2     9         47              0      -0.5      -0.5      -0.5 -2.302585   \n",
       "3     1         66              0      -0.5      -0.5      -0.5 -2.302585   \n",
       "4     2         66              0      -0.5      -0.5      -0.5 -2.302585   \n",
       "\n",
       "   MIMICzs5  MIMICzs6  MIMICzs7         ...          abchange_vc  \\\n",
       "0  0.855691 -1.030949  0.513024         ...                  0.0   \n",
       "1  0.855691 -1.030949  0.513024         ...                  0.0   \n",
       "2  0.855691 -1.014956 -1.567879         ...                  0.0   \n",
       "3 -0.067316 -0.107333  0.705956         ...                  0.0   \n",
       "4 -0.067316 -0.107333  0.705956         ...                  0.0   \n",
       "\n",
       "   max_dose_vaso  agent_iv  agent_vaso  agent_iv1  agent_vaso1  \\\n",
       "0            0.0         4           2          2            2   \n",
       "1            0.0         4           0          2            2   \n",
       "2            0.0         4           2          2            1   \n",
       "3            0.0         4           2          2            1   \n",
       "4            0.0         1           0          1            1   \n",
       "\n",
       "   agent_dose_vaso  agent_dose_vaso1  abchange_vc_agent  abchange_vc_agent1  \n",
       "0            0.135             0.135              0.000               0.000  \n",
       "1            0.000             0.786              0.135               0.651  \n",
       "2            0.135             0.135              0.135               0.651  \n",
       "3            0.135             0.000              0.000               0.000  \n",
       "4            0.000             0.000              0.135               0.000  \n",
       "\n",
       "[5 rows x 64 columns]"
      ]
     },
     "execution_count": 112,
     "metadata": {},
     "output_type": "execute_result"
    }
   ],
   "source": [
    "df_test.head()"
   ]
  },
  {
   "cell_type": "code",
   "execution_count": 113,
   "metadata": {},
   "outputs": [],
   "source": [
    "action_dose_map = {0: 0, 1: action1[2], 2: action2[2], 3: action3[2], 4:action4[2]}"
   ]
  },
  {
   "cell_type": "code",
   "execution_count": 114,
   "metadata": {},
   "outputs": [
    {
     "name": "stdout",
     "output_type": "stream",
     "text": [
      "{0: 0, 1: 0.04, 2: 0.135, 3: 0.27, 4: 0.7859999999999999}\n"
     ]
    }
   ],
   "source": [
    "print(action_dose_map)"
   ]
  },
  {
   "cell_type": "code",
   "execution_count": 115,
   "metadata": {},
   "outputs": [],
   "source": [
    "df_test['agent_dose_vaso'] = df_test['agent_vaso'].apply(lambda x:action_dose_map[x] )\n",
    "df_test['agent_dose_vaso1'] = df_test['agent_vaso1'].apply(lambda x:action_dose_map[x])"
   ]
  },
  {
   "cell_type": "code",
   "execution_count": 116,
   "metadata": {},
   "outputs": [],
   "source": [
    "df_test['abchange_vc_agent'] = 0 \n",
    "for i in df_test.index:\n",
    "        if i == 0:\n",
    "            continue\n",
    "        if df_test.loc[i, 'icustayid'] == df_test.loc[i-1, 'icustayid']:\n",
    "            vaso_cur = df_test.loc[i, 'agent_dose_vaso']\n",
    "            vaso_prev = df_test.loc[i-1, 'agent_dose_vaso']\n",
    "            increase_rate = vaso_cur - vaso_prev\n",
    "            df_test.loc[i, 'abchange_vc_agent'] = abs(increase_rate)"
   ]
  },
  {
   "cell_type": "code",
   "execution_count": 117,
   "metadata": {},
   "outputs": [],
   "source": [
    "df_test['abchange_vc_agent1'] = 0 \n",
    "for i in df_test.index:\n",
    "        if i == 0:\n",
    "            continue\n",
    "        if df_test.loc[i, 'icustayid'] == df_test.loc[i-1, 'icustayid']:\n",
    "            vaso_cur = df_test.loc[i, 'agent_dose_vaso1']\n",
    "            vaso_prev = df_test.loc[i-1, 'agent_dose_vaso1']\n",
    "            increase_rate = vaso_cur - vaso_prev\n",
    "            df_test.loc[i, 'abchange_vc_agent1'] = abs(increase_rate)"
   ]
  },
  {
   "cell_type": "code",
   "execution_count": null,
   "metadata": {},
   "outputs": [],
   "source": []
  },
  {
   "cell_type": "code",
   "execution_count": 118,
   "metadata": {},
   "outputs": [],
   "source": [
    "comparision_test = df_test[['icustayid', 'abchange_vc', 'abchange_vc_agent', 'abchange_vc_agent1' ]]"
   ]
  },
  {
   "cell_type": "code",
   "execution_count": 119,
   "metadata": {
    "scrolled": false
   },
   "outputs": [
    {
     "data": {
      "text/html": [
       "<div>\n",
       "<table border=\"1\" class=\"dataframe\">\n",
       "  <thead>\n",
       "    <tr style=\"text-align: right;\">\n",
       "      <th></th>\n",
       "      <th>icustayid</th>\n",
       "      <th>abchange_vc</th>\n",
       "      <th>abchange_vc_agent</th>\n",
       "      <th>abchange_vc_agent1</th>\n",
       "    </tr>\n",
       "  </thead>\n",
       "  <tbody>\n",
       "    <tr>\n",
       "      <th>0</th>\n",
       "      <td>47</td>\n",
       "      <td>0.0</td>\n",
       "      <td>0.000</td>\n",
       "      <td>0.000</td>\n",
       "    </tr>\n",
       "    <tr>\n",
       "      <th>1</th>\n",
       "      <td>47</td>\n",
       "      <td>0.0</td>\n",
       "      <td>0.135</td>\n",
       "      <td>0.000</td>\n",
       "    </tr>\n",
       "    <tr>\n",
       "      <th>2</th>\n",
       "      <td>47</td>\n",
       "      <td>0.0</td>\n",
       "      <td>0.135</td>\n",
       "      <td>0.095</td>\n",
       "    </tr>\n",
       "    <tr>\n",
       "      <th>3</th>\n",
       "      <td>66</td>\n",
       "      <td>0.0</td>\n",
       "      <td>0.000</td>\n",
       "      <td>0.000</td>\n",
       "    </tr>\n",
       "    <tr>\n",
       "      <th>4</th>\n",
       "      <td>66</td>\n",
       "      <td>0.0</td>\n",
       "      <td>0.135</td>\n",
       "      <td>0.000</td>\n",
       "    </tr>\n",
       "  </tbody>\n",
       "</table>\n",
       "</div>"
      ],
      "text/plain": [
       "   icustayid  abchange_vc  abchange_vc_agent  abchange_vc_agent1\n",
       "0         47          0.0              0.000               0.000\n",
       "1         47          0.0              0.135               0.000\n",
       "2         47          0.0              0.135               0.095\n",
       "3         66          0.0              0.000               0.000\n",
       "4         66          0.0              0.135               0.000"
      ]
     },
     "execution_count": 119,
     "metadata": {},
     "output_type": "execute_result"
    }
   ],
   "source": [
    "comparision_test.head()"
   ]
  },
  {
   "cell_type": "code",
   "execution_count": 120,
   "metadata": {},
   "outputs": [],
   "source": [
    "############# get max vaso change by agent action for each patient #################\n",
    "df_grouped_agent = comparision_test.groupby('icustayid').agg({'abchange_vc_agent':'max'})\n",
    "df_grouped_agent = df_grouped_agent.reset_index()\n",
    "df_grouped_agent = df_grouped_agent.rename(columns={'abchange_vc_agent':'abchange_vc_agentmax'})"
   ]
  },
  {
   "cell_type": "code",
   "execution_count": 121,
   "metadata": {},
   "outputs": [],
   "source": [
    "############# get max vaso change by agent1 action for each patient #################\n",
    "df_grouped_agent1 = comparision_test.groupby('icustayid').agg({'abchange_vc_agent1':'max'})\n",
    "df_grouped_agent1 = df_grouped_agent1.reset_index()\n",
    "df_grouped_agent1 = df_grouped_agent1.rename(columns={'abchange_vc_agent1':'abchange_vc_agentmax1'})"
   ]
  },
  {
   "cell_type": "code",
   "execution_count": 122,
   "metadata": {},
   "outputs": [],
   "source": [
    "############# get max vaso change by physician action for each patient #################\n",
    "df_grouped_physician = comparision_test.groupby('icustayid').agg({'abchange_vc':'max'})\n",
    "df_grouped_physician = df_grouped_physician.reset_index()\n",
    "df_grouped_physician = df_grouped_physician.rename(columns = {'abchange_vc': 'abchange_vc_max'})"
   ]
  },
  {
   "cell_type": "code",
   "execution_count": 123,
   "metadata": {},
   "outputs": [],
   "source": [
    "df_comparision = pd.merge(df_grouped_physician, df_grouped_agent, how = 'left', on=['icustayid'])\n",
    "df_comparision1 = pd.merge(df_grouped_physician, df_grouped_agent1, how = 'left', on=['icustayid'])"
   ]
  },
  {
   "cell_type": "code",
   "execution_count": 124,
   "metadata": {},
   "outputs": [
    {
     "data": {
      "text/html": [
       "<div>\n",
       "<table border=\"1\" class=\"dataframe\">\n",
       "  <thead>\n",
       "    <tr style=\"text-align: right;\">\n",
       "      <th></th>\n",
       "      <th>icustayid</th>\n",
       "      <th>abchange_vc_max</th>\n",
       "      <th>abchange_vc_agentmax1</th>\n",
       "    </tr>\n",
       "  </thead>\n",
       "  <tbody>\n",
       "    <tr>\n",
       "      <th>0</th>\n",
       "      <td>47</td>\n",
       "      <td>0.000</td>\n",
       "      <td>0.095</td>\n",
       "    </tr>\n",
       "    <tr>\n",
       "      <th>1</th>\n",
       "      <td>66</td>\n",
       "      <td>0.000</td>\n",
       "      <td>0.135</td>\n",
       "    </tr>\n",
       "    <tr>\n",
       "      <th>2</th>\n",
       "      <td>78</td>\n",
       "      <td>0.338</td>\n",
       "      <td>0.040</td>\n",
       "    </tr>\n",
       "    <tr>\n",
       "      <th>3</th>\n",
       "      <td>109</td>\n",
       "      <td>0.050</td>\n",
       "      <td>0.270</td>\n",
       "    </tr>\n",
       "    <tr>\n",
       "      <th>4</th>\n",
       "      <td>135</td>\n",
       "      <td>0.000</td>\n",
       "      <td>0.040</td>\n",
       "    </tr>\n",
       "  </tbody>\n",
       "</table>\n",
       "</div>"
      ],
      "text/plain": [
       "   icustayid  abchange_vc_max  abchange_vc_agentmax1\n",
       "0         47            0.000                  0.095\n",
       "1         66            0.000                  0.135\n",
       "2         78            0.338                  0.040\n",
       "3        109            0.050                  0.270\n",
       "4        135            0.000                  0.040"
      ]
     },
     "execution_count": 124,
     "metadata": {},
     "output_type": "execute_result"
    }
   ],
   "source": [
    "df_comparision1.head()"
   ]
  },
  {
   "cell_type": "code",
   "execution_count": 125,
   "metadata": {},
   "outputs": [],
   "source": [
    "agenthigher = []\n",
    "for i in df_comparision.index:\n",
    "    if df_comparision.ix[i, 'abchange_vc_max'] <= df_comparision.ix[i, 'abchange_vc_agentmax']:\n",
    "        agenthigher.append(df_comparision.ix[i])\n",
    "        "
   ]
  },
  {
   "cell_type": "code",
   "execution_count": 126,
   "metadata": {},
   "outputs": [],
   "source": [
    "agenthigher1 = []\n",
    "for i in df_comparision1.index:\n",
    "    if df_comparision1.ix[i, 'abchange_vc_max'] <= df_comparision1.ix[i, 'abchange_vc_agentmax1']:\n",
    "        agenthigher1.append(df_comparision1.ix[i])"
   ]
  },
  {
   "cell_type": "code",
   "execution_count": 127,
   "metadata": {},
   "outputs": [],
   "source": [
    "ahigh = df_comparision[df_comparision['abchange_vc_agentmax'] >= action4[2]]"
   ]
  },
  {
   "cell_type": "code",
   "execution_count": 128,
   "metadata": {},
   "outputs": [],
   "source": [
    "ahigh1 = df_comparision1[df_comparision1['abchange_vc_agentmax1'] >= action4[2]]"
   ]
  },
  {
   "cell_type": "code",
   "execution_count": 129,
   "metadata": {},
   "outputs": [],
   "source": [
    "phigh = df_comparision1[df_comparision1['abchange_vc_max'] >= action4[2]]"
   ]
  },
  {
   "cell_type": "code",
   "execution_count": 130,
   "metadata": {},
   "outputs": [
    {
     "name": "stdout",
     "output_type": "stream",
     "text": [
      "In physician policy, the number of patients whose absolute change in one step is over 0.786  57\n",
      "In optimal policy, the number of patients whose absolute change in one step is over 0.786  756\n",
      "In my modified policy, the number of patients whose absolute change in one step is over 0.786  170\n",
      "How many patients evaluated  2160\n",
      "In optimal policy, the NO. of patients absoluate change is higher than physician policy  1929\n",
      "In my modified policy, the NO. of patients absoluate change is higher than physician policy  1835\n"
     ]
    }
   ],
   "source": [
    "print('In physician policy, the number of patients whose absolute change in one step is over 0.786 ', len(phigh))\n",
    "print('In optimal policy, the number of patients whose absolute change in one step is over 0.786 ', len(ahigh))\n",
    "print('In my modified policy, the number of patients whose absolute change in one step is over 0.786 ', len(ahigh1))\n",
    "print('How many patients evaluated ', len(df_comparision))\n",
    "print('In optimal policy, the NO. of patients absoluate change is higher than physician policy ',len(agenthigher))\n",
    "print('In my modified policy, the NO. of patients absoluate change is higher than physician policy ',len(agenthigher1))\n",
    "\n"
   ]
  },
  {
   "cell_type": "code",
   "execution_count": null,
   "metadata": {},
   "outputs": [],
   "source": []
  },
  {
   "cell_type": "code",
   "execution_count": null,
   "metadata": {},
   "outputs": [],
   "source": []
  },
  {
   "cell_type": "code",
   "execution_count": 131,
   "metadata": {},
   "outputs": [],
   "source": [
    "df_comparision= df_comparision.sort_values(by=['abchange_vc_max', 'abchange_vc_agentmax'])\n",
    "df_comparision1= df_comparision1.sort_values(by=['abchange_vc_max', 'abchange_vc_agentmax1'])"
   ]
  },
  {
   "cell_type": "code",
   "execution_count": 132,
   "metadata": {},
   "outputs": [],
   "source": [
    "plot_value1 = np.array(df_comparision['abchange_vc_max']) \n",
    "plot_value2 = np.array(df_comparision['abchange_vc_agentmax'])"
   ]
  },
  {
   "cell_type": "code",
   "execution_count": 133,
   "metadata": {},
   "outputs": [],
   "source": [
    "plot_value11 = np.array(df_comparision1['abchange_vc_max']) \n",
    "plot_value12 = np.array(df_comparision1['abchange_vc_agentmax1'])"
   ]
  },
  {
   "cell_type": "code",
   "execution_count": 149,
   "metadata": {},
   "outputs": [
    {
     "data": {
      "image/png": "[encoded data removed]",
      "text/plain": [
       "<Figure size 432x288 with 1 Axes>"
      ]
     },
     "metadata": {
      "needs_background": "light"
     },
     "output_type": "display_data"
    }
   ],
   "source": [
    "plt.plot(plot_value1, 'firebrick', label = 'Clinician policy') \n",
    "plt.plot(plot_value2, 'green',label = 'Optimal policy') \n",
    "plt.xlabel('Patients index')\n",
    "plt.ylabel('Vasopressor dose absolute change')\n",
    "plt.legend()\n",
    "plt.show()"
   ]
  },
  {
   "cell_type": "code",
   "execution_count": 150,
   "metadata": {},
   "outputs": [
    {
     "data": {
      "image/png": "[encoded data removed]",
      "text/plain": [
       "<Figure size 432x288 with 1 Axes>"
      ]
     },
     "metadata": {
      "needs_background": "light"
     },
     "output_type": "display_data"
    }
   ],
   "source": [
    "plt.plot(plot_value11, 'firebrick', label = 'Clinician policy') \n",
    "plt.plot(plot_value12, 'g',label = 'Modified policy') \n",
    "plt.xlabel('Patients index')\n",
    "plt.ylabel('Vasopressor dose absolute change')\n",
    "plt.legend()\n",
    "plt.show()"
   ]
  },
  {
   "cell_type": "code",
   "execution_count": 92,
   "metadata": {},
   "outputs": [
    {
     "data": {
      "image/png": "[encoded data removed]",
      "text/plain": [
       "<Figure size 432x288 with 1 Axes>"
      ]
     },
     "metadata": {
      "needs_background": "light"
     },
     "output_type": "display_data"
    }
   ],
   "source": [
    "dim = np.arange(1500,2160,1)\n",
    "plt.plot(dim, plot_value1[1500:], 'r', label = 'physician vaso_dose change') \n",
    "plt.plot(dim, plot_value2[1500:], 'g', label = 'Optimal policy vaso_dose change') \n",
    "plt.legend()\n",
    "plt.grid()\n",
    "plt.show()\n"
   ]
  },
  {
   "cell_type": "code",
   "execution_count": 93,
   "metadata": {},
   "outputs": [
    {
     "data": {
      "image/png": "[encoded data removed]",
      "text/plain": [
       "<Figure size 432x288 with 1 Axes>"
      ]
     },
     "metadata": {
      "needs_background": "light"
     },
     "output_type": "display_data"
    }
   ],
   "source": [
    "dim = np.arange(1500,2160,1)\n",
    "plt.plot(dim, plot_value11[1500:], 'r', label = 'physician vaso_dose change') \n",
    "plt.plot(dim, plot_value12[1500:], 'g', label = 'modified policy vaso_dose change') \n",
    "plt.legend()\n",
    "plt.grid()\n",
    "plt.show()"
   ]
  },
  {
   "cell_type": "code",
   "execution_count": null,
   "metadata": {},
   "outputs": [],
   "source": []
  },
  {
   "cell_type": "code",
   "execution_count": null,
   "metadata": {},
   "outputs": [],
   "source": []
  },
  {
   "cell_type": "code",
   "execution_count": 94,
   "metadata": {},
   "outputs": [],
   "source": [
    "x = plot_value1[1500:]\n",
    "y = plot_value2[1500:]\n",
    "### among x and y, there are 302 cases among (302 + 252 + 11) where agent dose change is higher than physician's #####"
   ]
  },
  {
   "cell_type": "code",
   "execution_count": null,
   "metadata": {},
   "outputs": [],
   "source": []
  },
  {
   "cell_type": "code",
   "execution_count": null,
   "metadata": {},
   "outputs": [],
   "source": []
  },
  {
   "cell_type": "code",
   "execution_count": 95,
   "metadata": {},
   "outputs": [],
   "source": [
    "df_comparision3= df_comparision.sort_values(by=['abchange_vc_agentmax', 'abchange_vc_max'])\n",
    "df_comparision4= df_comparision1.sort_values(by=['abchange_vc_agentmax1', 'abchange_vc_max'])"
   ]
  },
  {
   "cell_type": "code",
   "execution_count": 96,
   "metadata": {},
   "outputs": [
    {
     "data": {
      "image/png": "[encoded data removed]",
      "text/plain": [
       "<Figure size 432x288 with 1 Axes>"
      ]
     },
     "metadata": {
      "needs_background": "light"
     },
     "output_type": "display_data"
    }
   ],
   "source": [
    "plot_value3 = np.array(df_comparision3['abchange_vc_max']) \n",
    "plot_value4 = np.array(df_comparision3['abchange_vc_agentmax'])\n",
    "plt.plot(plot_value3, 'r') \n",
    "plt.plot(plot_value4, 'g') \n",
    "plt.show()"
   ]
  },
  {
   "cell_type": "code",
   "execution_count": 97,
   "metadata": {},
   "outputs": [
    {
     "data": {
      "image/png": "[encoded data removed]",
      "text/plain": [
       "<Figure size 432x288 with 1 Axes>"
      ]
     },
     "metadata": {
      "needs_background": "light"
     },
     "output_type": "display_data"
    }
   ],
   "source": [
    "plot_value13 = np.array(df_comparision4['abchange_vc_max']) \n",
    "plot_value14 = np.array(df_comparision4['abchange_vc_agentmax1'])\n",
    "plt.plot(plot_value13, 'r') \n",
    "plt.plot(plot_value14, 'g') \n",
    "plt.show()\n"
   ]
  },
  {
   "cell_type": "code",
   "execution_count": null,
   "metadata": {},
   "outputs": [],
   "source": []
  }
 ],
 "metadata": {
  "kernelspec": {
   "display_name": "Python 3",
   "language": "python",
   "name": "python3"
  },
  "language_info": {
   "codemirror_mode": {
    "name": "ipython",
    "version": 3
   },
   "file_extension": ".py",
   "mimetype": "text/x-python",
   "name": "python",
   "nbconvert_exporter": "python",
   "pygments_lexer": "ipython3",
   "version": "3.6.8"
  }
 },
 "nbformat": 4,
 "nbformat_minor": 2
}
