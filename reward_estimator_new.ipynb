{
 "cells": [
  {
   "cell_type": "code",
   "execution_count": 1,
   "metadata": {},
   "outputs": [],
   "source": [
    "import tensorflow as tf\n",
    "import pandas as pd\n",
    "import numpy as np\n",
    "import random\n",
    "import matplotlib.pyplot as plt\n",
    "import os\n",
    "import pickle as pickle"
   ]
  },
  {
   "cell_type": "code",
   "execution_count": 2,
   "metadata": {},
   "outputs": [],
   "source": [
    "inv_action_map = {}\n",
    "for iv in range(5):\n",
    "    for vaso in range(5):\n",
    "        inv_action_map[5*iv+vaso] = [iv,vaso]"
   ]
  },
  {
   "cell_type": "code",
   "execution_count": null,
   "metadata": {},
   "outputs": [],
   "source": []
  },
  {
   "cell_type": "code",
   "execution_count": 3,
   "metadata": {},
   "outputs": [
    {
     "name": "stdout",
     "output_type": "stream",
     "text": [
      "{0: [0, 0], 1: [0, 1], 2: [0, 2], 3: [0, 3], 4: [0, 4], 5: [1, 0], 6: [1, 1], 7: [1, 2], 8: [1, 3], 9: [1, 4], 10: [2, 0], 11: [2, 1], 12: [2, 2], 13: [2, 3], 14: [2, 4], 15: [3, 0], 16: [3, 1], 17: [3, 2], 18: [3, 3], 19: [3, 4], 20: [4, 0], 21: [4, 1], 22: [4, 2], 23: [4, 3], 24: [4, 4]}\n"
     ]
    }
   ],
   "source": [
    "print(inv_action_map)"
   ]
  },
  {
   "cell_type": "code",
   "execution_count": 4,
   "metadata": {},
   "outputs": [],
   "source": [
    "train_data = pd.read_csv('data_vasochange/train_withterm.csv')"
   ]
  },
  {
   "cell_type": "code",
   "execution_count": 5,
   "metadata": {},
   "outputs": [],
   "source": [
    "val_data = pd.read_csv('data_vasochange/val_withterm.csv')"
   ]
  },
  {
   "cell_type": "code",
   "execution_count": 6,
   "metadata": {},
   "outputs": [],
   "source": [
    "test_data = pd.read_csv('data_vasochange/test_withterm.csv')"
   ]
  },
  {
   "cell_type": "code",
   "execution_count": 7,
   "metadata": {},
   "outputs": [
    {
     "data": {
      "text/html": [
       "<div>\n",
       "<table border=\"1\" class=\"dataframe\">\n",
       "  <thead>\n",
       "    <tr style=\"text-align: right;\">\n",
       "      <th></th>\n",
       "      <th>bloc</th>\n",
       "      <th>icustayid</th>\n",
       "      <th>mortality_90d</th>\n",
       "      <th>MIMICzs1</th>\n",
       "      <th>MIMICzs2</th>\n",
       "      <th>MIMICzs3</th>\n",
       "      <th>MIMICzs4</th>\n",
       "      <th>MIMICzs5</th>\n",
       "      <th>MIMICzs6</th>\n",
       "      <th>MIMICzs7</th>\n",
       "      <th>...</th>\n",
       "      <th>MIMICzs44</th>\n",
       "      <th>MIMICzs45</th>\n",
       "      <th>MIMICzs46</th>\n",
       "      <th>MIMICzs47</th>\n",
       "      <th>action</th>\n",
       "      <th>shaped_reward</th>\n",
       "      <th>io_ac</th>\n",
       "      <th>vc_ac</th>\n",
       "      <th>abchange_vc</th>\n",
       "      <th>max_dose_vaso</th>\n",
       "    </tr>\n",
       "  </thead>\n",
       "  <tbody>\n",
       "    <tr>\n",
       "      <th>0</th>\n",
       "      <td>1</td>\n",
       "      <td>3</td>\n",
       "      <td>1</td>\n",
       "      <td>-0.5</td>\n",
       "      <td>-0.5</td>\n",
       "      <td>-0.5</td>\n",
       "      <td>-2.302585</td>\n",
       "      <td>-0.978344</td>\n",
       "      <td>-0.187300</td>\n",
       "      <td>0.705956</td>\n",
       "      <td>...</td>\n",
       "      <td>0.391651</td>\n",
       "      <td>0.52761</td>\n",
       "      <td>0.786192</td>\n",
       "      <td>0.702781</td>\n",
       "      <td>10</td>\n",
       "      <td>-1.224270</td>\n",
       "      <td>2</td>\n",
       "      <td>0</td>\n",
       "      <td>0.0</td>\n",
       "      <td>0.0</td>\n",
       "    </tr>\n",
       "    <tr>\n",
       "      <th>1</th>\n",
       "      <td>2</td>\n",
       "      <td>3</td>\n",
       "      <td>1</td>\n",
       "      <td>-0.5</td>\n",
       "      <td>-0.5</td>\n",
       "      <td>-0.5</td>\n",
       "      <td>-2.302585</td>\n",
       "      <td>-0.978344</td>\n",
       "      <td>-0.187300</td>\n",
       "      <td>0.705956</td>\n",
       "      <td>...</td>\n",
       "      <td>0.394176</td>\n",
       "      <td>0.52761</td>\n",
       "      <td>0.793676</td>\n",
       "      <td>0.596530</td>\n",
       "      <td>10</td>\n",
       "      <td>1.640796</td>\n",
       "      <td>2</td>\n",
       "      <td>0</td>\n",
       "      <td>0.0</td>\n",
       "      <td>0.0</td>\n",
       "    </tr>\n",
       "    <tr>\n",
       "      <th>2</th>\n",
       "      <td>3</td>\n",
       "      <td>3</td>\n",
       "      <td>1</td>\n",
       "      <td>-0.5</td>\n",
       "      <td>-0.5</td>\n",
       "      <td>-0.5</td>\n",
       "      <td>-2.302585</td>\n",
       "      <td>-0.978344</td>\n",
       "      <td>-0.187300</td>\n",
       "      <td>0.705956</td>\n",
       "      <td>...</td>\n",
       "      <td>0.396682</td>\n",
       "      <td>0.52761</td>\n",
       "      <td>0.799286</td>\n",
       "      <td>0.516950</td>\n",
       "      <td>10</td>\n",
       "      <td>-0.025000</td>\n",
       "      <td>2</td>\n",
       "      <td>0</td>\n",
       "      <td>0.0</td>\n",
       "      <td>0.0</td>\n",
       "    </tr>\n",
       "    <tr>\n",
       "      <th>3</th>\n",
       "      <td>4</td>\n",
       "      <td>3</td>\n",
       "      <td>1</td>\n",
       "      <td>-0.5</td>\n",
       "      <td>-0.5</td>\n",
       "      <td>-0.5</td>\n",
       "      <td>-2.302585</td>\n",
       "      <td>-0.978344</td>\n",
       "      <td>-0.155313</td>\n",
       "      <td>0.705956</td>\n",
       "      <td>...</td>\n",
       "      <td>0.399169</td>\n",
       "      <td>0.52761</td>\n",
       "      <td>0.805952</td>\n",
       "      <td>0.575231</td>\n",
       "      <td>10</td>\n",
       "      <td>-0.025000</td>\n",
       "      <td>2</td>\n",
       "      <td>0</td>\n",
       "      <td>0.0</td>\n",
       "      <td>0.0</td>\n",
       "    </tr>\n",
       "    <tr>\n",
       "      <th>4</th>\n",
       "      <td>5</td>\n",
       "      <td>3</td>\n",
       "      <td>1</td>\n",
       "      <td>-0.5</td>\n",
       "      <td>-0.5</td>\n",
       "      <td>-0.5</td>\n",
       "      <td>-2.302585</td>\n",
       "      <td>-0.978344</td>\n",
       "      <td>-0.147317</td>\n",
       "      <td>0.705956</td>\n",
       "      <td>...</td>\n",
       "      <td>0.401637</td>\n",
       "      <td>0.52761</td>\n",
       "      <td>0.816227</td>\n",
       "      <td>0.714111</td>\n",
       "      <td>10</td>\n",
       "      <td>-0.025000</td>\n",
       "      <td>2</td>\n",
       "      <td>0</td>\n",
       "      <td>0.0</td>\n",
       "      <td>0.0</td>\n",
       "    </tr>\n",
       "  </tbody>\n",
       "</table>\n",
       "<p>5 rows × 56 columns</p>\n",
       "</div>"
      ],
      "text/plain": [
       "   bloc  icustayid  mortality_90d  MIMICzs1  MIMICzs2  MIMICzs3  MIMICzs4  \\\n",
       "0     1          3              1      -0.5      -0.5      -0.5 -2.302585   \n",
       "1     2          3              1      -0.5      -0.5      -0.5 -2.302585   \n",
       "2     3          3              1      -0.5      -0.5      -0.5 -2.302585   \n",
       "3     4          3              1      -0.5      -0.5      -0.5 -2.302585   \n",
       "4     5          3              1      -0.5      -0.5      -0.5 -2.302585   \n",
       "\n",
       "   MIMICzs5  MIMICzs6  MIMICzs7      ...        MIMICzs44  MIMICzs45  \\\n",
       "0 -0.978344 -0.187300  0.705956      ...         0.391651    0.52761   \n",
       "1 -0.978344 -0.187300  0.705956      ...         0.394176    0.52761   \n",
       "2 -0.978344 -0.187300  0.705956      ...         0.396682    0.52761   \n",
       "3 -0.978344 -0.155313  0.705956      ...         0.399169    0.52761   \n",
       "4 -0.978344 -0.147317  0.705956      ...         0.401637    0.52761   \n",
       "\n",
       "   MIMICzs46  MIMICzs47  action  shaped_reward  io_ac  vc_ac  abchange_vc  \\\n",
       "0   0.786192   0.702781      10      -1.224270      2      0          0.0   \n",
       "1   0.793676   0.596530      10       1.640796      2      0          0.0   \n",
       "2   0.799286   0.516950      10      -0.025000      2      0          0.0   \n",
       "3   0.805952   0.575231      10      -0.025000      2      0          0.0   \n",
       "4   0.816227   0.714111      10      -0.025000      2      0          0.0   \n",
       "\n",
       "   max_dose_vaso  \n",
       "0            0.0  \n",
       "1            0.0  \n",
       "2            0.0  \n",
       "3            0.0  \n",
       "4            0.0  \n",
       "\n",
       "[5 rows x 56 columns]"
      ]
     },
     "execution_count": 7,
     "metadata": {},
     "output_type": "execute_result"
    }
   ],
   "source": [
    "train_data.head()"
   ]
  },
  {
   "cell_type": "code",
   "execution_count": 8,
   "metadata": {},
   "outputs": [],
   "source": [
    "def preproc(df):\n",
    "    df_in = df.copy()\n",
    "    keep_arr = ['MIMICzs1','MIMICzs2','MIMICzs3','MIMICzs4','MIMICzs5','MIMICzs6','MIMICzs7','MIMICzs8','MIMICzs9','MIMICzs10','MIMICzs11','MIMICzs12','MIMICzs13','MIMICzs14','MIMICzs15','MIMICzs16','MIMICzs17','MIMICzs18','MIMICzs19','MIMICzs20','MIMICzs21','MIMICzs22','MIMICzs23','MIMICzs24','MIMICzs25','MIMICzs26','MIMICzs27','MIMICzs28','MIMICzs29','MIMICzs30','MIMICzs31','MIMICzs32','MIMICzs33','MIMICzs34','MIMICzs35','MIMICzs36','MIMICzs37','MIMICzs38','MIMICzs39','MIMICzs40','MIMICzs41','MIMICzs42','MIMICzs43','MIMICzs44','MIMICzs45','MIMICzs46','MIMICzs47', 'abchange_vc']\n",
    "    keep_arr.append('io_ac')\n",
    "    keep_arr.append('vc_ac')\n",
    "    df_in = df_in[np.abs(df_in['shaped_reward']) >=10]\n",
    "    features = df_in[keep_arr].values\n",
    "#made a change of  labels = df_in['shaped_reward'].values    to the follows\n",
    "    labels = df_in['shaped_reward'].values/15.0\n",
    "#    labels = labels.astype(int)\n",
    "    labels[labels < 0] = 0\n",
    "#    labels[labels>0] = 1\n",
    "\n",
    "    return features,labels"
   ]
  },
  {
   "cell_type": "code",
   "execution_count": 9,
   "metadata": {},
   "outputs": [],
   "source": [
    "def batch_sample(batch_size, features, labels):\n",
    "    idx = np.random.choice(np.arange(len(features)), batch_size, replace=False)\n",
    "    return (np.vstack(features[idx]), labels[idx])"
   ]
  },
  {
   "cell_type": "code",
   "execution_count": null,
   "metadata": {},
   "outputs": [],
   "source": []
  },
  {
   "cell_type": "code",
   "execution_count": 10,
   "metadata": {},
   "outputs": [],
   "source": [
    "train_feat, train_labels = preproc(train_data)\n",
    "val_feat, val_labels = preproc(val_data)\n",
    "test_feat, test_labels = preproc(test_data)"
   ]
  },
  {
   "cell_type": "code",
   "execution_count": null,
   "metadata": {},
   "outputs": [],
   "source": []
  },
  {
   "cell_type": "code",
   "execution_count": null,
   "metadata": {},
   "outputs": [],
   "source": []
  },
  {
   "cell_type": "code",
   "execution_count": 11,
   "metadata": {},
   "outputs": [
    {
     "data": {
      "text/plain": [
       "LogisticRegression(C=1.0, class_weight=None, dual=False, fit_intercept=True,\n",
       "                   intercept_scaling=1, l1_ratio=None, max_iter=1000,\n",
       "                   multi_class='auto', n_jobs=None, penalty='l2',\n",
       "                   random_state=None, solver='lbfgs', tol=0.0001, verbose=0,\n",
       "                   warm_start=False)"
      ]
     },
     "execution_count": 11,
     "metadata": {},
     "output_type": "execute_result"
    }
   ],
   "source": [
    "from sklearn.linear_model import LogisticRegression\n",
    "clf = LogisticRegression(max_iter= 1000)\n",
    "clf.fit(train_feat, train_labels)"
   ]
  },
  {
   "cell_type": "code",
   "execution_count": 12,
   "metadata": {},
   "outputs": [],
   "source": [
    "\n",
    "# for each state: if not terminal, deterministically get reward. if terminal, use clf to predict outcome,\n",
    "# and estimated reward = 15 * outcome"
   ]
  },
  {
   "cell_type": "code",
   "execution_count": 13,
   "metadata": {},
   "outputs": [],
   "source": [
    "feat_names = ['MIMICzs1','MIMICzs2','MIMICzs3','MIMICzs4','MIMICzs5','MIMICzs6','MIMICzs7','MIMICzs8','MIMICzs9','MIMICzs10','MIMICzs11','MIMICzs12','MIMICzs13','MIMICzs14','MIMICzs15','MIMICzs16','MIMICzs17','MIMICzs18','MIMICzs19','MIMICzs20','MIMICzs21','MIMICzs22','MIMICzs23','MIMICzs24','MIMICzs25','MIMICzs26','MIMICzs27','MIMICzs28','MIMICzs29','MIMICzs30','MIMICzs31','MIMICzs32','MIMICzs33','MIMICzs34','MIMICzs35','MIMICzs36','MIMICzs37','MIMICzs38','MIMICzs39','MIMICzs40','MIMICzs41','MIMICzs42','MIMICzs43','MIMICzs44','MIMICzs45','MIMICzs46','MIMICzs47', 'abchange_vc']"
   ]
  },
  {
   "cell_type": "code",
   "execution_count": 14,
   "metadata": {},
   "outputs": [],
   "source": [
    "envmodel_save_dir = 'env_model_regression/'\n",
    "est_state_val = pickle.load(open( envmodel_save_dir + \"est_next_states_val.p\", \"rb\" ))\n",
    "est_state_test =  pickle.load(open( envmodel_save_dir + \"est_next_states_test.p\", \"rb\" ))\n",
    "est_state_train = pickle.load(open(envmodel_save_dir + \"est_next_states_train.p\", \"rb\"))"
   ]
  },
  {
   "cell_type": "code",
   "execution_count": 15,
   "metadata": {},
   "outputs": [],
   "source": [
    "est_state_val = np.vstack(est_state_val)\n",
    "est_state_test = np.vstack(est_state_test)\n",
    "est_state_train = np.vstack(est_state_train)"
   ]
  },
  {
   "cell_type": "code",
   "execution_count": 16,
   "metadata": {},
   "outputs": [],
   "source": [
    "# Get the relevant fields from the estimated next states\n",
    "lact_index = feat_names.index('MIMICzs30')\n",
    "sofa_index = feat_names.index('MIMICzs35')\n",
    "\n",
    "val_data['est_lactate'] = est_state_val[:, lact_index]\n",
    "val_data['est_sofa'] = est_state_val[:, sofa_index]\n",
    "\n",
    "test_data['est_lactate'] = est_state_test[:, lact_index]\n",
    "test_data['est_sofa'] = est_state_test[: , sofa_index]\n",
    "\n",
    "train_data['est_lactate'] = est_state_train[:, lact_index]\n",
    "train_data['est_sofa'] = est_state_train[:, sofa_index]"
   ]
  },
  {
   "cell_type": "code",
   "execution_count": 17,
   "metadata": {},
   "outputs": [],
   "source": [
    "# undo the scaling on the next state prediction in order to calculate the reward\n",
    "# unscaled = std_dev*(min_max_normalised*(max_norm - min_norm)) + mean\n",
    "\n",
    "df_orig = pd.read_csv('data_vasochange/Al_SOFA.csv')\n",
    "#df_orig_train = df_orig.loc[df_orig['icustayid'].isin(train_data['icustayid'])]\n",
    "\n",
    "sofa_mean = df_orig['SOFA'].mean()\n",
    "sofa_std = df_orig['SOFA'].std()\n",
    "lact_mean = df_orig['Arterial_lactate'].mean()\n",
    "lact_std = df_orig['Arterial_lactate'].std()\n",
    "\n",
    "norm_sofa = (df_orig['SOFA'] - sofa_mean)/sofa_std\n",
    "norm_lact = (df_orig['Arterial_lactate']-lact_mean)/lact_std\n",
    "\n",
    "min_norm_sofa = min(norm_sofa)\n",
    "max_norm_sofa = max(norm_sofa)\n",
    "\n",
    "min_norm_lact = min(norm_lact)\n",
    "max_norm_lact = max(norm_lact)\n",
    "\n",
    "min_max_norm_sofa = (norm_sofa - min_norm_sofa)/(max_norm_sofa-min_norm_sofa)\n",
    "min_max_norm_lact = (norm_lact - min_norm_lact)/(max_norm_lact-min_norm_lact)"
   ]
  },
  {
   "cell_type": "code",
   "execution_count": 19,
   "metadata": {},
   "outputs": [],
   "source": [
    "# Add in the agent actions to both the validation and test dataframes\n",
    "agent_actions_test = pickle.load(open('vasochange4_dqn_normal/dqn_normal_actions_test.p', \"rb\" ))\n",
    "agent_actions_val = pickle.load(open('vasochange4_dqn_normal/dqn_normal_actions_val.p', \"rb\" ))\n",
    "agent_actions_train = pickle.load(open('vasochange4_dqn_normal/dqn_normal_actions_train.p', \"rb\"))"
   ]
  },
  {
   "cell_type": "code",
   "execution_count": 20,
   "metadata": {},
   "outputs": [],
   "source": [
    "#print(agent_actions_test)\n"
   ]
  },
  {
   "cell_type": "code",
   "execution_count": 21,
   "metadata": {},
   "outputs": [],
   "source": [
    "#print(agent_actions_val)"
   ]
  },
  {
   "cell_type": "code",
   "execution_count": 22,
   "metadata": {},
   "outputs": [
    {
     "name": "stdout",
     "output_type": "stream",
     "text": [
      "{0: [0, 0], 1: [0, 1], 2: [0, 2], 3: [0, 3], 4: [0, 4], 5: [1, 0], 6: [1, 1], 7: [1, 2], 8: [1, 3], 9: [1, 4], 10: [2, 0], 11: [2, 1], 12: [2, 2], 13: [2, 3], 14: [2, 4], 15: [3, 0], 16: [3, 1], 17: [3, 2], 18: [3, 3], 19: [3, 4], 20: [4, 0], 21: [4, 1], 22: [4, 2], 23: [4, 3], 24: [4, 4]}\n"
     ]
    }
   ],
   "source": [
    "# unpack the actions into tuples of (iv,vaso)inv_action_map = {}\n",
    "#count = 0\n",
    "#for i in range(5):\n",
    "#    for j in range(5):\n",
    "#        inv_action_map[count] = [i,j]\n",
    "#        count += 1\n",
    "print(inv_action_map)"
   ]
  },
  {
   "cell_type": "code",
   "execution_count": 23,
   "metadata": {},
   "outputs": [],
   "source": [
    "# unpack the actions into tuples of (iv,vaso)\n",
    "test_actions_arr = np.array([inv_action_map[i] for i in agent_actions_test])\n",
    "val_actions_arr = np.array([inv_action_map[i] for i in agent_actions_val])\n",
    "train_actions_arr = np.array([inv_action_map[i] for i in agent_actions_train])"
   ]
  },
  {
   "cell_type": "code",
   "execution_count": 24,
   "metadata": {},
   "outputs": [
    {
     "name": "stdout",
     "output_type": "stream",
     "text": [
      "[[2 2]\n",
      " [2 2]\n",
      " [2 1]\n",
      " ...\n",
      " [0 0]\n",
      " [2 0]\n",
      " [2 0]]\n"
     ]
    }
   ],
   "source": [
    "print(test_actions_arr)"
   ]
  },
  {
   "cell_type": "code",
   "execution_count": 25,
   "metadata": {},
   "outputs": [],
   "source": [
    "val_data['agent_iv'] = val_actions_arr[:,0]\n",
    "val_data['agent_vaso'] = val_actions_arr[:,1]\n",
    "\n",
    "test_data['agent_iv'] = test_actions_arr[:,0]\n",
    "test_data['agent_vaso'] = test_actions_arr[:,1]\n",
    "\n",
    "train_data['agent_iv'] = train_actions_arr[:,0]\n",
    "train_data['agent_vaso'] = train_actions_arr[:,1]"
   ]
  },
  {
   "cell_type": "code",
   "execution_count": 26,
   "metadata": {},
   "outputs": [],
   "source": [
    "c0 = -0.1/4\n",
    "c1 = -0.5/4\n",
    "c2 = -2\n",
    "clf_features = ['MIMICzs1','MIMICzs2','MIMICzs3','MIMICzs4','MIMICzs5','MIMICzs6','MIMICzs7','MIMICzs8','MIMICzs9','MIMICzs10','MIMICzs11','MIMICzs12','MIMICzs13','MIMICzs14','MIMICzs15','MIMICzs16','MIMICzs17','MIMICzs18','MIMICzs19','MIMICzs20','MIMICzs21','MIMICzs22','MIMICzs23','MIMICzs24','MIMICzs25','MIMICzs26','MIMICzs27','MIMICzs28','MIMICzs29','MIMICzs30','MIMICzs31','MIMICzs32','MIMICzs33','MIMICzs34','MIMICzs35','MIMICzs36','MIMICzs37','MIMICzs38','MIMICzs39','MIMICzs40','MIMICzs41','MIMICzs42','MIMICzs43','MIMICzs44','MIMICzs45','MIMICzs46','MIMICzs47']\n",
    "clf_features.append('agent_iv')\n",
    "clf_features.append('agent_vaso')\n",
    "\n",
    "#clf_features.append('io_ac')\n",
    "#clf_features.append('vc_ac')\n",
    "\n",
    "def reward_estimator(df):\n",
    "    df['unscaled_sofa_now'] = sofa_std*(df['MIMICzs35']) + sofa_mean\n",
    "    df['unscaled_sofa_next'] = sofa_std*(df['est_sofa']) + sofa_mean\n",
    "\n",
    "    df['unscaled_lact_now'] = lact_std*(df['MIMICzs30']) + lact_mean\n",
    "    df['unscaled_lact_next'] = lact_std*(df['est_lactate']) + lact_mean\n",
    "\n",
    "    rewards = []\n",
    "    for count,i in enumerate(df.index):\n",
    "        if count == len(df) - 1 or df.loc[i, 'icustayid'] != df.loc[df.index[count+1], 'icustayid']:\n",
    "            feat = df.loc[i,clf_features].values\n",
    "            feat = feat.reshape(1,-1)\n",
    "            est_outcome = clf.predict(feat)\n",
    "            try:\n",
    "                if est_outcome == 0:\n",
    "                    rewards.append(-15)\n",
    "                else:\n",
    "                    rewards.append(15)\n",
    "            except ValueError:\n",
    "                print(est_outcome)\n",
    "                print(len(est_outcome))\n",
    "                raise\n",
    "        else:\n",
    "            lact_now = df.loc[i, 'unscaled_lact_now']\n",
    "            sofa_now = df.loc[i, 'unscaled_sofa_now']\n",
    "            lact_next = df.loc[i, 'unscaled_lact_next']\n",
    "            sofa_next = df.loc[i, 'unscaled_sofa_next']\n",
    "            reward = 0\n",
    "            if sofa_next == sofa_now and sofa_next != 0:\n",
    "                reward += c0\n",
    "            reward += c1*(sofa_next-sofa_now)\n",
    "            reward += c2*np.tanh(lact_next - lact_now)\n",
    "            rewards.append(reward)\n",
    "    return np.array(rewards)"
   ]
  },
  {
   "cell_type": "code",
   "execution_count": 27,
   "metadata": {},
   "outputs": [],
   "source": [
    "val_rewards = reward_estimator(val_data)\n",
    "test_rewards = reward_estimator(test_data)\n",
    "#train_rewards = reward_estimator(train_data)"
   ]
  },
  {
   "cell_type": "code",
   "execution_count": 28,
   "metadata": {},
   "outputs": [],
   "source": [
    "\n",
    "with open(r\"val_rewards.p\", \"wb\") as f:\n",
    "    pickle.dump(val_rewards, f)"
   ]
  },
  {
   "cell_type": "code",
   "execution_count": 29,
   "metadata": {},
   "outputs": [],
   "source": [
    "with open(r\"test_rewards.p\", \"wb\") as f:\n",
    "    pickle.dump(test_rewards, f)"
   ]
  },
  {
   "cell_type": "code",
   "execution_count": 30,
   "metadata": {},
   "outputs": [],
   "source": [
    "#with open(r\"train_rewards.p\", \"wb\") as f:\n",
    "#    pickle.dump(train_rewards, f)"
   ]
  },
  {
   "cell_type": "code",
   "execution_count": 31,
   "metadata": {},
   "outputs": [
    {
     "name": "stdout",
     "output_type": "stream",
     "text": [
      "29 34\n"
     ]
    }
   ],
   "source": [
    "print(lact_index, sofa_index)"
   ]
  },
  {
   "cell_type": "code",
   "execution_count": null,
   "metadata": {},
   "outputs": [],
   "source": []
  }
 ],
 "metadata": {
  "kernelspec": {
   "display_name": "Python 3",
   "language": "python",
   "name": "python3"
  },
  "language_info": {
   "codemirror_mode": {
    "name": "ipython",
    "version": 3
   },
   "file_extension": ".py",
   "mimetype": "text/x-python",
   "name": "python",
   "nbconvert_exporter": "python",
   "pygments_lexer": "ipython3",
   "version": "3.6.8"
  }
 },
 "nbformat": 4,
 "nbformat_minor": 2
}
