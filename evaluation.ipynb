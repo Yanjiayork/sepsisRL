{
 "cells": [
  {
   "cell_type": "code",
   "execution_count": 1,
   "metadata": {},
   "outputs": [],
   "source": [
    "import pandas as pd\n",
    "import numpy as np\n",
    "import pickle"
   ]
  },
  {
   "cell_type": "code",
   "execution_count": 2,
   "metadata": {},
   "outputs": [
    {
     "data": {
      "text/html": [
       "<div>\n",
       "<table border=\"1\" class=\"dataframe\">\n",
       "  <thead>\n",
       "    <tr style=\"text-align: right;\">\n",
       "      <th></th>\n",
       "      <th>bloc</th>\n",
       "      <th>icustayid</th>\n",
       "      <th>mortality_90d</th>\n",
       "      <th>MIMICzs1</th>\n",
       "      <th>MIMICzs2</th>\n",
       "      <th>MIMICzs3</th>\n",
       "      <th>MIMICzs4</th>\n",
       "      <th>MIMICzs5</th>\n",
       "      <th>MIMICzs6</th>\n",
       "      <th>MIMICzs7</th>\n",
       "      <th>...</th>\n",
       "      <th>MIMICzs44</th>\n",
       "      <th>MIMICzs45</th>\n",
       "      <th>MIMICzs46</th>\n",
       "      <th>MIMICzs47</th>\n",
       "      <th>action</th>\n",
       "      <th>shaped_reward</th>\n",
       "      <th>io_ac</th>\n",
       "      <th>vc_ac</th>\n",
       "      <th>abchange_vc</th>\n",
       "      <th>max_dose_vaso</th>\n",
       "    </tr>\n",
       "  </thead>\n",
       "  <tbody>\n",
       "    <tr>\n",
       "      <th>0</th>\n",
       "      <td>1</td>\n",
       "      <td>3</td>\n",
       "      <td>1</td>\n",
       "      <td>-0.5</td>\n",
       "      <td>-0.5</td>\n",
       "      <td>-0.5</td>\n",
       "      <td>-2.302585</td>\n",
       "      <td>-0.978344</td>\n",
       "      <td>-0.187300</td>\n",
       "      <td>0.705956</td>\n",
       "      <td>...</td>\n",
       "      <td>0.391651</td>\n",
       "      <td>0.52761</td>\n",
       "      <td>0.786192</td>\n",
       "      <td>0.702781</td>\n",
       "      <td>10</td>\n",
       "      <td>-1.224270</td>\n",
       "      <td>2</td>\n",
       "      <td>0</td>\n",
       "      <td>0.0</td>\n",
       "      <td>0.0</td>\n",
       "    </tr>\n",
       "    <tr>\n",
       "      <th>1</th>\n",
       "      <td>2</td>\n",
       "      <td>3</td>\n",
       "      <td>1</td>\n",
       "      <td>-0.5</td>\n",
       "      <td>-0.5</td>\n",
       "      <td>-0.5</td>\n",
       "      <td>-2.302585</td>\n",
       "      <td>-0.978344</td>\n",
       "      <td>-0.187300</td>\n",
       "      <td>0.705956</td>\n",
       "      <td>...</td>\n",
       "      <td>0.394176</td>\n",
       "      <td>0.52761</td>\n",
       "      <td>0.793676</td>\n",
       "      <td>0.596530</td>\n",
       "      <td>10</td>\n",
       "      <td>1.640796</td>\n",
       "      <td>2</td>\n",
       "      <td>0</td>\n",
       "      <td>0.0</td>\n",
       "      <td>0.0</td>\n",
       "    </tr>\n",
       "    <tr>\n",
       "      <th>2</th>\n",
       "      <td>3</td>\n",
       "      <td>3</td>\n",
       "      <td>1</td>\n",
       "      <td>-0.5</td>\n",
       "      <td>-0.5</td>\n",
       "      <td>-0.5</td>\n",
       "      <td>-2.302585</td>\n",
       "      <td>-0.978344</td>\n",
       "      <td>-0.187300</td>\n",
       "      <td>0.705956</td>\n",
       "      <td>...</td>\n",
       "      <td>0.396682</td>\n",
       "      <td>0.52761</td>\n",
       "      <td>0.799286</td>\n",
       "      <td>0.516950</td>\n",
       "      <td>10</td>\n",
       "      <td>-0.025000</td>\n",
       "      <td>2</td>\n",
       "      <td>0</td>\n",
       "      <td>0.0</td>\n",
       "      <td>0.0</td>\n",
       "    </tr>\n",
       "    <tr>\n",
       "      <th>3</th>\n",
       "      <td>4</td>\n",
       "      <td>3</td>\n",
       "      <td>1</td>\n",
       "      <td>-0.5</td>\n",
       "      <td>-0.5</td>\n",
       "      <td>-0.5</td>\n",
       "      <td>-2.302585</td>\n",
       "      <td>-0.978344</td>\n",
       "      <td>-0.155313</td>\n",
       "      <td>0.705956</td>\n",
       "      <td>...</td>\n",
       "      <td>0.399169</td>\n",
       "      <td>0.52761</td>\n",
       "      <td>0.805952</td>\n",
       "      <td>0.575231</td>\n",
       "      <td>10</td>\n",
       "      <td>-0.025000</td>\n",
       "      <td>2</td>\n",
       "      <td>0</td>\n",
       "      <td>0.0</td>\n",
       "      <td>0.0</td>\n",
       "    </tr>\n",
       "    <tr>\n",
       "      <th>4</th>\n",
       "      <td>5</td>\n",
       "      <td>3</td>\n",
       "      <td>1</td>\n",
       "      <td>-0.5</td>\n",
       "      <td>-0.5</td>\n",
       "      <td>-0.5</td>\n",
       "      <td>-2.302585</td>\n",
       "      <td>-0.978344</td>\n",
       "      <td>-0.147317</td>\n",
       "      <td>0.705956</td>\n",
       "      <td>...</td>\n",
       "      <td>0.401637</td>\n",
       "      <td>0.52761</td>\n",
       "      <td>0.816227</td>\n",
       "      <td>0.714111</td>\n",
       "      <td>10</td>\n",
       "      <td>-0.025000</td>\n",
       "      <td>2</td>\n",
       "      <td>0</td>\n",
       "      <td>0.0</td>\n",
       "      <td>0.0</td>\n",
       "    </tr>\n",
       "  </tbody>\n",
       "</table>\n",
       "<p>5 rows × 56 columns</p>\n",
       "</div>"
      ],
      "text/plain": [
       "   bloc  icustayid  mortality_90d  MIMICzs1  MIMICzs2  MIMICzs3  MIMICzs4  \\\n",
       "0     1          3              1      -0.5      -0.5      -0.5 -2.302585   \n",
       "1     2          3              1      -0.5      -0.5      -0.5 -2.302585   \n",
       "2     3          3              1      -0.5      -0.5      -0.5 -2.302585   \n",
       "3     4          3              1      -0.5      -0.5      -0.5 -2.302585   \n",
       "4     5          3              1      -0.5      -0.5      -0.5 -2.302585   \n",
       "\n",
       "   MIMICzs5  MIMICzs6  MIMICzs7      ...        MIMICzs44  MIMICzs45  \\\n",
       "0 -0.978344 -0.187300  0.705956      ...         0.391651    0.52761   \n",
       "1 -0.978344 -0.187300  0.705956      ...         0.394176    0.52761   \n",
       "2 -0.978344 -0.187300  0.705956      ...         0.396682    0.52761   \n",
       "3 -0.978344 -0.155313  0.705956      ...         0.399169    0.52761   \n",
       "4 -0.978344 -0.147317  0.705956      ...         0.401637    0.52761   \n",
       "\n",
       "   MIMICzs46  MIMICzs47  action  shaped_reward  io_ac  vc_ac  abchange_vc  \\\n",
       "0   0.786192   0.702781      10      -1.224270      2      0          0.0   \n",
       "1   0.793676   0.596530      10       1.640796      2      0          0.0   \n",
       "2   0.799286   0.516950      10      -0.025000      2      0          0.0   \n",
       "3   0.805952   0.575231      10      -0.025000      2      0          0.0   \n",
       "4   0.816227   0.714111      10      -0.025000      2      0          0.0   \n",
       "\n",
       "   max_dose_vaso  \n",
       "0            0.0  \n",
       "1            0.0  \n",
       "2            0.0  \n",
       "3            0.0  \n",
       "4            0.0  \n",
       "\n",
       "[5 rows x 56 columns]"
      ]
     },
     "execution_count": 2,
     "metadata": {},
     "output_type": "execute_result"
    }
   ],
   "source": [
    "df_train = pd.read_csv('data_vasochange/train_withterm.csv')\n",
    "df_train.head()"
   ]
  },
  {
   "cell_type": "code",
   "execution_count": 3,
   "metadata": {},
   "outputs": [],
   "source": [
    "df_val = pd.read_csv('data_vasochange/val_withterm.csv')"
   ]
  },
  {
   "cell_type": "code",
   "execution_count": 4,
   "metadata": {},
   "outputs": [],
   "source": [
    "df_test = pd.read_csv('data_vasochange/test_withterm.csv')"
   ]
  },
  {
   "cell_type": "code",
   "execution_count": 5,
   "metadata": {},
   "outputs": [],
   "source": [
    "agent_reward_estimates_val = pickle.load(open('./val_rewards.p', \"rb\" ))\n",
    "agent_reward_estimates_test = pickle.load(open('./test_rewards.p', \"rb\" ))\n",
    "#agent_reward_estimates_train = pickle.load(open('./train_rewards.p', \"rb\" ))\n",
    "# agent_reward_estimates = agent_q"
   ]
  },
  {
   "cell_type": "code",
   "execution_count": null,
   "metadata": {},
   "outputs": [],
   "source": []
  },
  {
   "cell_type": "code",
   "execution_count": 6,
   "metadata": {},
   "outputs": [],
   "source": [
    "df_val['reward_estimate'] = agent_reward_estimates_val\n",
    "df_test['reward_estimate'] = agent_reward_estimates_test\n",
    "#df_train['reward_estimate'] = agent_reward_estimates_train"
   ]
  },
  {
   "cell_type": "code",
   "execution_count": 7,
   "metadata": {},
   "outputs": [],
   "source": [
    "action_map = {}\n",
    "count = 0\n",
    "for iv in range(5):\n",
    "    for vaso in range(5):\n",
    "        action_map[(iv,vaso)] = count\n",
    "        count += 1"
   ]
  },
  {
   "cell_type": "code",
   "execution_count": 8,
   "metadata": {},
   "outputs": [
    {
     "name": "stdout",
     "output_type": "stream",
     "text": [
      "{(0, 0): 0, (0, 1): 1, (0, 2): 2, (0, 3): 3, (0, 4): 4, (1, 0): 5, (1, 1): 6, (1, 2): 7, (1, 3): 8, (1, 4): 9, (2, 0): 10, (2, 1): 11, (2, 2): 12, (2, 3): 13, (2, 4): 14, (3, 0): 15, (3, 1): 16, (3, 2): 17, (3, 3): 18, (3, 4): 19, (4, 0): 20, (4, 1): 21, (4, 2): 22, (4, 3): 23, (4, 4): 24}\n"
     ]
    }
   ],
   "source": [
    "print(action_map)"
   ]
  },
  {
   "cell_type": "code",
   "execution_count": 9,
   "metadata": {},
   "outputs": [],
   "source": [
    "unique_ids_val = df_val['icustayid'].unique()\n",
    "unique_ids_test = df_test['icustayid'].unique()\n",
    "unique_ids_train = df_train['icustayid'].unique()"
   ]
  },
  {
   "cell_type": "code",
   "execution_count": 10,
   "metadata": {},
   "outputs": [
    {
     "name": "stdout",
     "output_type": "stream",
     "text": [
      "7.1651775867517244\n",
      "23.16690776805195\n",
      "-23.148286743330715\n"
     ]
    }
   ],
   "source": [
    "phys_vals = []\n",
    "gamma = 0.99\n",
    "for uid in unique_ids_test:\n",
    "    traj = df_test.loc[df_test['icustayid'] == uid]\n",
    "    ret = 0\n",
    "    reversed_traj = traj.iloc[::-1]\n",
    "    for row in reversed_traj.index:\n",
    "        ret = reversed_traj.loc[row,'shaped_reward'] + gamma*ret\n",
    "    phys_vals.append(ret)\n",
    "print(np.mean(phys_vals))\n",
    "print(max(phys_vals))\n",
    "print(min(phys_vals))"
   ]
  },
  {
   "cell_type": "code",
   "execution_count": 11,
   "metadata": {},
   "outputs": [
    {
     "name": "stdout",
     "output_type": "stream",
     "text": [
      "9.791838923054046\n",
      "37.77802560247752\n",
      "-31.008447960683625\n"
     ]
    }
   ],
   "source": [
    "phys_vals = []\n",
    "gamma = 0.99\n",
    "for uid in unique_ids_test:\n",
    "    traj = df_test.loc[df_test['icustayid'] == uid]\n",
    "    ret = 0\n",
    "    reversed_traj = traj.iloc[::-1]\n",
    "    for row in reversed_traj.index:\n",
    "        ret = reversed_traj.loc[row,'reward_estimate'] + gamma*ret\n",
    "    phys_vals.append(ret)\n",
    "print(np.mean(phys_vals))\n",
    "print(max(phys_vals))\n",
    "print(min(phys_vals))"
   ]
  },
  {
   "cell_type": "code",
   "execution_count": null,
   "metadata": {},
   "outputs": [],
   "source": []
  },
  {
   "cell_type": "code",
   "execution_count": null,
   "metadata": {},
   "outputs": [],
   "source": []
  },
  {
   "cell_type": "code",
   "execution_count": null,
   "metadata": {},
   "outputs": [],
   "source": []
  },
  {
   "cell_type": "code",
   "execution_count": null,
   "metadata": {},
   "outputs": [],
   "source": []
  }
 ],
 "metadata": {
  "kernelspec": {
   "display_name": "Python 3",
   "language": "python",
   "name": "python3"
  },
  "language_info": {
   "codemirror_mode": {
    "name": "ipython",
    "version": 3
   },
   "file_extension": ".py",
   "mimetype": "text/x-python",
   "name": "python",
   "nbconvert_exporter": "python",
   "pygments_lexer": "ipython3",
   "version": "3.6.8"
  }
 },
 "nbformat": 4,
 "nbformat_minor": 2
}
